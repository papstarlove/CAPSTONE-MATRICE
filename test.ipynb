{
 "cells": [
  {
   "cell_type": "code",
   "execution_count": 1,
   "metadata": {},
   "outputs": [],
   "source": [
    "import pandas as pd\n",
    "from sqlalchemy import create_engine\n",
    "from sqlalchemy import Table, Column, Integer, String, MetaData, ForeignKey, INTEGER, Float, DECIMAL, DateTime, Boolean\n"
   ]
  },
  {
   "cell_type": "code",
   "execution_count": null,
   "metadata": {},
   "outputs": [],
   "source": [
    "\n",
    "# Création d'une base de données SQLite\n",
    "engine = create_engine('sqlite:///database.db')\n",
    "\n",
    "# Création d'un objet metadata pour stocker les schémas des tables.\n",
    "metadata = MetaData()\n",
    "\n",
    "# table 'prix' \n",
    "prix = Table('prix', metadata,  # on définie le nom de la table.\n",
    "    Column('pdv_id', Integer, primary_key=True), # et ensuite les colonnes...\n",
    "    Column('lat', Float),\n",
    "    Column('long', Float),\n",
    "    Column('cp', String),\n",
    "    Column('pop', String),\n",
    "    Column('adresse', String),\n",
    "    Column('ville', String),\n",
    "    Column('date', DateTime),\n",
    "    Column('gazoil', Float),\n",
    "    Column('sp_98', Float),\n",
    "    Column('sp_95', Float),\n",
    "    Column('e_10', Float),\n",
    "    Column('dep_looker', String)\n",
    ")\n",
    "\n",
    "# table prix_2\n",
    "brent = Table('brent', metadata,\n",
    "    Column('id', Integer, primary_key=True),\n",
    "    Column('date', DateTime),\n",
    "    Column('prix', Integer)\n",
    ")\n",
    "\n",
    "# création de toutes les tables dans le métadata\n",
    "metadata.create_all(engine)"
   ]
  },
  {
   "cell_type": "code",
   "execution_count": null,
   "metadata": {},
   "outputs": [],
   "source": [
    "#Données à ajouter dans ma base de données"
   ]
  }
 ],
 "metadata": {
  "kernelspec": {
   "display_name": "base",
   "language": "python",
   "name": "python3"
  },
  "language_info": {
   "codemirror_mode": {
    "name": "ipython",
    "version": 3
   },
   "file_extension": ".py",
   "mimetype": "text/x-python",
   "name": "python",
   "nbconvert_exporter": "python",
   "pygments_lexer": "ipython3",
   "version": "3.9.18"
  }
 },
 "nbformat": 4,
 "nbformat_minor": 2
}
